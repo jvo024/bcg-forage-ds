{
 "cells": [
  {
   "cell_type": "markdown",
   "id": "a207638d-2d90-4a41-81e0-f86b35a174f9",
   "metadata": {
    "pycharm": {
     "name": "#%% md\n"
    }
   },
   "source": [
    "# Exploratory Data Analysis\n",
    "\n",
    "## Import packages"
   ]
  },
  {
   "cell_type": "code",
   "execution_count": 1,
   "id": "21fa22a3-62fc-4ee9-ad3b-5e3fbc059bdf",
   "metadata": {
    "pycharm": {
     "name": "#%%\n"
    }
   },
   "outputs": [],
   "source": [
    "import matplotlib.pyplot as plt\n",
    "import seaborn as sns\n",
    "import pandas as pd\n",
    "\n",
    "# Shows plots in jupyter notebook\n",
    "%matplotlib inline\n",
    "\n",
    "# Set plot style\n",
    "sns.set(color_codes=True)"
   ]
  },
  {
   "cell_type": "markdown",
   "id": "88cb5312-cbc0-4193-b84e-2c94455c9edf",
   "metadata": {
    "pycharm": {
     "name": "#%% md\n"
    }
   },
   "source": [
    "---\n",
    "\n",
    "## Load data"
   ]
  },
  {
   "cell_type": "code",
   "execution_count": 2,
   "id": "82e6a4ae-2b8a-4152-b04f-0c998466fd50",
   "metadata": {
    "pycharm": {
     "name": "#%%\n"
    }
   },
   "outputs": [],
   "source": [
    "client_df = pd.read_csv('./client_data.csv')\n",
    "price_df = pd.read_csv('./price_data.csv')"
   ]
  },
  {
   "cell_type": "code",
   "execution_count": 3,
   "id": "dcf0d488-d3df-4819-a52b-e335c0674e43",
   "metadata": {
    "pycharm": {
     "name": "#%%\n"
    }
   },
   "outputs": [
    {
     "data": {
      "text/plain": "                                 id                     channel_sales  \\\n0  24011ae4ebbe3035111d65fa7c15bc57  foosdfpfkusacimwkcsosbicdxkicaua   \n1  d29c2c54acc38ff3c0614d0a653813dd                           MISSING   \n2  764c75f661154dac3a6c254cd082ea7d  foosdfpfkusacimwkcsosbicdxkicaua   \n3  bba03439a292a1e166f80264c16191cb  lmkebamcaaclubfxadlmueccxoimlema   \n4  149d57cf92fc41cf94415803a877cb4b                           MISSING   \n\n   cons_12m  cons_gas_12m  cons_last_month  date_activ    date_end  \\\n0         0         54946                0  2013-06-15  2016-06-15   \n1      4660             0                0  2009-08-21  2016-08-30   \n2       544             0                0  2010-04-16  2016-04-16   \n3      1584             0                0  2010-03-30  2016-03-30   \n4      4425             0              526  2010-01-13  2016-03-07   \n\n  date_modif_prod date_renewal  forecast_cons_12m  ...  has_gas  imp_cons  \\\n0      2015-11-01   2015-06-23               0.00  ...        t      0.00   \n1      2009-08-21   2015-08-31             189.95  ...        f      0.00   \n2      2010-04-16   2015-04-17              47.96  ...        f      0.00   \n3      2010-03-30   2015-03-31             240.04  ...        f      0.00   \n4      2010-01-13   2015-03-09             445.75  ...        f     52.32   \n\n   margin_gross_pow_ele  margin_net_pow_ele  nb_prod_act  net_margin  \\\n0                 25.44               25.44            2      678.99   \n1                 16.38               16.38            1       18.89   \n2                 28.60               28.60            1        6.60   \n3                 30.22               30.22            1       25.46   \n4                 44.91               44.91            1       47.98   \n\n  num_years_antig                         origin_up  pow_max  churn  \n0               3  lxidpiddsbxsbosboudacockeimpuepw   43.648      1  \n1               6  kamkkxfxxuwbdslkwifmmcsiusiuosws   13.800      0  \n2               6  kamkkxfxxuwbdslkwifmmcsiusiuosws   13.856      0  \n3               6  kamkkxfxxuwbdslkwifmmcsiusiuosws   13.200      0  \n4               6  kamkkxfxxuwbdslkwifmmcsiusiuosws   19.800      0  \n\n[5 rows x 26 columns]",
      "text/html": "<div>\n<style scoped>\n    .dataframe tbody tr th:only-of-type {\n        vertical-align: middle;\n    }\n\n    .dataframe tbody tr th {\n        vertical-align: top;\n    }\n\n    .dataframe thead th {\n        text-align: right;\n    }\n</style>\n<table border=\"1\" class=\"dataframe\">\n  <thead>\n    <tr style=\"text-align: right;\">\n      <th></th>\n      <th>id</th>\n      <th>channel_sales</th>\n      <th>cons_12m</th>\n      <th>cons_gas_12m</th>\n      <th>cons_last_month</th>\n      <th>date_activ</th>\n      <th>date_end</th>\n      <th>date_modif_prod</th>\n      <th>date_renewal</th>\n      <th>forecast_cons_12m</th>\n      <th>...</th>\n      <th>has_gas</th>\n      <th>imp_cons</th>\n      <th>margin_gross_pow_ele</th>\n      <th>margin_net_pow_ele</th>\n      <th>nb_prod_act</th>\n      <th>net_margin</th>\n      <th>num_years_antig</th>\n      <th>origin_up</th>\n      <th>pow_max</th>\n      <th>churn</th>\n    </tr>\n  </thead>\n  <tbody>\n    <tr>\n      <th>0</th>\n      <td>24011ae4ebbe3035111d65fa7c15bc57</td>\n      <td>foosdfpfkusacimwkcsosbicdxkicaua</td>\n      <td>0</td>\n      <td>54946</td>\n      <td>0</td>\n      <td>2013-06-15</td>\n      <td>2016-06-15</td>\n      <td>2015-11-01</td>\n      <td>2015-06-23</td>\n      <td>0.00</td>\n      <td>...</td>\n      <td>t</td>\n      <td>0.00</td>\n      <td>25.44</td>\n      <td>25.44</td>\n      <td>2</td>\n      <td>678.99</td>\n      <td>3</td>\n      <td>lxidpiddsbxsbosboudacockeimpuepw</td>\n      <td>43.648</td>\n      <td>1</td>\n    </tr>\n    <tr>\n      <th>1</th>\n      <td>d29c2c54acc38ff3c0614d0a653813dd</td>\n      <td>MISSING</td>\n      <td>4660</td>\n      <td>0</td>\n      <td>0</td>\n      <td>2009-08-21</td>\n      <td>2016-08-30</td>\n      <td>2009-08-21</td>\n      <td>2015-08-31</td>\n      <td>189.95</td>\n      <td>...</td>\n      <td>f</td>\n      <td>0.00</td>\n      <td>16.38</td>\n      <td>16.38</td>\n      <td>1</td>\n      <td>18.89</td>\n      <td>6</td>\n      <td>kamkkxfxxuwbdslkwifmmcsiusiuosws</td>\n      <td>13.800</td>\n      <td>0</td>\n    </tr>\n    <tr>\n      <th>2</th>\n      <td>764c75f661154dac3a6c254cd082ea7d</td>\n      <td>foosdfpfkusacimwkcsosbicdxkicaua</td>\n      <td>544</td>\n      <td>0</td>\n      <td>0</td>\n      <td>2010-04-16</td>\n      <td>2016-04-16</td>\n      <td>2010-04-16</td>\n      <td>2015-04-17</td>\n      <td>47.96</td>\n      <td>...</td>\n      <td>f</td>\n      <td>0.00</td>\n      <td>28.60</td>\n      <td>28.60</td>\n      <td>1</td>\n      <td>6.60</td>\n      <td>6</td>\n      <td>kamkkxfxxuwbdslkwifmmcsiusiuosws</td>\n      <td>13.856</td>\n      <td>0</td>\n    </tr>\n    <tr>\n      <th>3</th>\n      <td>bba03439a292a1e166f80264c16191cb</td>\n      <td>lmkebamcaaclubfxadlmueccxoimlema</td>\n      <td>1584</td>\n      <td>0</td>\n      <td>0</td>\n      <td>2010-03-30</td>\n      <td>2016-03-30</td>\n      <td>2010-03-30</td>\n      <td>2015-03-31</td>\n      <td>240.04</td>\n      <td>...</td>\n      <td>f</td>\n      <td>0.00</td>\n      <td>30.22</td>\n      <td>30.22</td>\n      <td>1</td>\n      <td>25.46</td>\n      <td>6</td>\n      <td>kamkkxfxxuwbdslkwifmmcsiusiuosws</td>\n      <td>13.200</td>\n      <td>0</td>\n    </tr>\n    <tr>\n      <th>4</th>\n      <td>149d57cf92fc41cf94415803a877cb4b</td>\n      <td>MISSING</td>\n      <td>4425</td>\n      <td>0</td>\n      <td>526</td>\n      <td>2010-01-13</td>\n      <td>2016-03-07</td>\n      <td>2010-01-13</td>\n      <td>2015-03-09</td>\n      <td>445.75</td>\n      <td>...</td>\n      <td>f</td>\n      <td>52.32</td>\n      <td>44.91</td>\n      <td>44.91</td>\n      <td>1</td>\n      <td>47.98</td>\n      <td>6</td>\n      <td>kamkkxfxxuwbdslkwifmmcsiusiuosws</td>\n      <td>19.800</td>\n      <td>0</td>\n    </tr>\n  </tbody>\n</table>\n<p>5 rows × 26 columns</p>\n</div>"
     },
     "execution_count": 3,
     "metadata": {},
     "output_type": "execute_result"
    }
   ],
   "source": [
    "client_df.head(5)"
   ]
  },
  {
   "cell_type": "code",
   "execution_count": 4,
   "id": "2654a02d-8cf3-4a18-903e-b4f7f95d8e9e",
   "metadata": {
    "pycharm": {
     "name": "#%%\n"
    }
   },
   "outputs": [
    {
     "data": {
      "text/plain": "                                 id  price_date  price_off_peak_var  \\\n0  038af19179925da21a25619c5a24b745  2015-01-01            0.151367   \n1  038af19179925da21a25619c5a24b745  2015-02-01            0.151367   \n2  038af19179925da21a25619c5a24b745  2015-03-01            0.151367   \n3  038af19179925da21a25619c5a24b745  2015-04-01            0.149626   \n4  038af19179925da21a25619c5a24b745  2015-05-01            0.149626   \n\n   price_peak_var  price_mid_peak_var  price_off_peak_fix  price_peak_fix  \\\n0             0.0                 0.0           44.266931             0.0   \n1             0.0                 0.0           44.266931             0.0   \n2             0.0                 0.0           44.266931             0.0   \n3             0.0                 0.0           44.266931             0.0   \n4             0.0                 0.0           44.266931             0.0   \n\n   price_mid_peak_fix  \n0                 0.0  \n1                 0.0  \n2                 0.0  \n3                 0.0  \n4                 0.0  ",
      "text/html": "<div>\n<style scoped>\n    .dataframe tbody tr th:only-of-type {\n        vertical-align: middle;\n    }\n\n    .dataframe tbody tr th {\n        vertical-align: top;\n    }\n\n    .dataframe thead th {\n        text-align: right;\n    }\n</style>\n<table border=\"1\" class=\"dataframe\">\n  <thead>\n    <tr style=\"text-align: right;\">\n      <th></th>\n      <th>id</th>\n      <th>price_date</th>\n      <th>price_off_peak_var</th>\n      <th>price_peak_var</th>\n      <th>price_mid_peak_var</th>\n      <th>price_off_peak_fix</th>\n      <th>price_peak_fix</th>\n      <th>price_mid_peak_fix</th>\n    </tr>\n  </thead>\n  <tbody>\n    <tr>\n      <th>0</th>\n      <td>038af19179925da21a25619c5a24b745</td>\n      <td>2015-01-01</td>\n      <td>0.151367</td>\n      <td>0.0</td>\n      <td>0.0</td>\n      <td>44.266931</td>\n      <td>0.0</td>\n      <td>0.0</td>\n    </tr>\n    <tr>\n      <th>1</th>\n      <td>038af19179925da21a25619c5a24b745</td>\n      <td>2015-02-01</td>\n      <td>0.151367</td>\n      <td>0.0</td>\n      <td>0.0</td>\n      <td>44.266931</td>\n      <td>0.0</td>\n      <td>0.0</td>\n    </tr>\n    <tr>\n      <th>2</th>\n      <td>038af19179925da21a25619c5a24b745</td>\n      <td>2015-03-01</td>\n      <td>0.151367</td>\n      <td>0.0</td>\n      <td>0.0</td>\n      <td>44.266931</td>\n      <td>0.0</td>\n      <td>0.0</td>\n    </tr>\n    <tr>\n      <th>3</th>\n      <td>038af19179925da21a25619c5a24b745</td>\n      <td>2015-04-01</td>\n      <td>0.149626</td>\n      <td>0.0</td>\n      <td>0.0</td>\n      <td>44.266931</td>\n      <td>0.0</td>\n      <td>0.0</td>\n    </tr>\n    <tr>\n      <th>4</th>\n      <td>038af19179925da21a25619c5a24b745</td>\n      <td>2015-05-01</td>\n      <td>0.149626</td>\n      <td>0.0</td>\n      <td>0.0</td>\n      <td>44.266931</td>\n      <td>0.0</td>\n      <td>0.0</td>\n    </tr>\n  </tbody>\n</table>\n</div>"
     },
     "execution_count": 4,
     "metadata": {},
     "output_type": "execute_result"
    }
   ],
   "source": [
    "price_df.head(5)"
   ]
  },
  {
   "cell_type": "markdown",
   "id": "966c3948-41c0-4183-9118-dd665c58a93c",
   "metadata": {
    "pycharm": {
     "name": "#%% md\n"
    }
   },
   "source": [
    "---\n",
    "\n",
    "## Descriptive statistics of data\n",
    "\n",
    "### Data types"
   ]
  },
  {
   "cell_type": "code",
   "execution_count": 5,
   "id": "2dc75b07-c286-4852-bc33-e501782e67d9",
   "metadata": {
    "pycharm": {
     "name": "#%%\n"
    }
   },
   "outputs": [
    {
     "name": "stdout",
     "output_type": "stream",
     "text": [
      "<class 'pandas.core.frame.DataFrame'>\n",
      "RangeIndex: 14606 entries, 0 to 14605\n",
      "Data columns (total 26 columns):\n",
      " #   Column                          Non-Null Count  Dtype  \n",
      "---  ------                          --------------  -----  \n",
      " 0   id                              14606 non-null  object \n",
      " 1   channel_sales                   14606 non-null  object \n",
      " 2   cons_12m                        14606 non-null  int64  \n",
      " 3   cons_gas_12m                    14606 non-null  int64  \n",
      " 4   cons_last_month                 14606 non-null  int64  \n",
      " 5   date_activ                      14606 non-null  object \n",
      " 6   date_end                        14606 non-null  object \n",
      " 7   date_modif_prod                 14606 non-null  object \n",
      " 8   date_renewal                    14606 non-null  object \n",
      " 9   forecast_cons_12m               14606 non-null  float64\n",
      " 10  forecast_cons_year              14606 non-null  int64  \n",
      " 11  forecast_discount_energy        14606 non-null  float64\n",
      " 12  forecast_meter_rent_12m         14606 non-null  float64\n",
      " 13  forecast_price_energy_off_peak  14606 non-null  float64\n",
      " 14  forecast_price_energy_peak      14606 non-null  float64\n",
      " 15  forecast_price_pow_off_peak     14606 non-null  float64\n",
      " 16  has_gas                         14606 non-null  object \n",
      " 17  imp_cons                        14606 non-null  float64\n",
      " 18  margin_gross_pow_ele            14606 non-null  float64\n",
      " 19  margin_net_pow_ele              14606 non-null  float64\n",
      " 20  nb_prod_act                     14606 non-null  int64  \n",
      " 21  net_margin                      14606 non-null  float64\n",
      " 22  num_years_antig                 14606 non-null  int64  \n",
      " 23  origin_up                       14606 non-null  object \n",
      " 24  pow_max                         14606 non-null  float64\n",
      " 25  churn                           14606 non-null  int64  \n",
      "dtypes: float64(11), int64(7), object(8)\n",
      "memory usage: 2.9+ MB\n"
     ]
    }
   ],
   "source": [
    "client_df.info()"
   ]
  },
  {
   "cell_type": "code",
   "execution_count": 6,
   "id": "b67f2628-351a-48ee-b8ba-88c54042af88",
   "metadata": {
    "pycharm": {
     "name": "#%%\n"
    }
   },
   "outputs": [
    {
     "name": "stdout",
     "output_type": "stream",
     "text": [
      "<class 'pandas.core.frame.DataFrame'>\n",
      "RangeIndex: 193002 entries, 0 to 193001\n",
      "Data columns (total 8 columns):\n",
      " #   Column              Non-Null Count   Dtype  \n",
      "---  ------              --------------   -----  \n",
      " 0   id                  193002 non-null  object \n",
      " 1   price_date          193002 non-null  object \n",
      " 2   price_off_peak_var  193002 non-null  float64\n",
      " 3   price_peak_var      193002 non-null  float64\n",
      " 4   price_mid_peak_var  193002 non-null  float64\n",
      " 5   price_off_peak_fix  193002 non-null  float64\n",
      " 6   price_peak_fix      193002 non-null  float64\n",
      " 7   price_mid_peak_fix  193002 non-null  float64\n",
      "dtypes: float64(6), object(2)\n",
      "memory usage: 11.8+ MB\n"
     ]
    }
   ],
   "source": [
    "price_df.info()"
   ]
  },
  {
   "cell_type": "code",
   "execution_count": 7,
   "outputs": [
    {
     "data": {
      "text/plain": "id                                0\nchannel_sales                     0\ncons_12m                          0\ncons_gas_12m                      0\ncons_last_month                   0\ndate_activ                        0\ndate_end                          0\ndate_modif_prod                   0\ndate_renewal                      0\nforecast_cons_12m                 0\nforecast_cons_year                0\nforecast_discount_energy          0\nforecast_meter_rent_12m           0\nforecast_price_energy_off_peak    0\nforecast_price_energy_peak        0\nforecast_price_pow_off_peak       0\nhas_gas                           0\nimp_cons                          0\nmargin_gross_pow_ele              0\nmargin_net_pow_ele                0\nnb_prod_act                       0\nnet_margin                        0\nnum_years_antig                   0\norigin_up                         0\npow_max                           0\nchurn                             0\ndtype: int64"
     },
     "execution_count": 7,
     "metadata": {},
     "output_type": "execute_result"
    }
   ],
   "source": [
    "client_df.isnull().sum()"
   ],
   "metadata": {
    "collapsed": false,
    "pycharm": {
     "name": "#%%\n"
    }
   }
  },
  {
   "cell_type": "markdown",
   "id": "3d7e80c5-ef07-47a7-908a-a081b3ebd09e",
   "metadata": {
    "pycharm": {
     "name": "#%% md\n"
    }
   },
   "source": [
    "### Statistics"
   ]
  },
  {
   "cell_type": "code",
   "execution_count": 8,
   "id": "60f3010c-ecaf-4b8a-bb87-93bb54cc0c7e",
   "metadata": {
    "pycharm": {
     "name": "#%%\n"
    }
   },
   "outputs": [
    {
     "data": {
      "text/plain": "           cons_12m  cons_gas_12m  cons_last_month  forecast_cons_12m  \\\ncount  1.460600e+04  1.460600e+04     14606.000000       14606.000000   \nmean   1.592203e+05  2.809238e+04     16090.269752        1868.614880   \nstd    5.734653e+05  1.629731e+05     64364.196422        2387.571531   \nmin    0.000000e+00  0.000000e+00         0.000000           0.000000   \n25%    5.674750e+03  0.000000e+00         0.000000         494.995000   \n50%    1.411550e+04  0.000000e+00       792.500000        1112.875000   \n75%    4.076375e+04  0.000000e+00      3383.000000        2401.790000   \nmax    6.207104e+06  4.154590e+06    771203.000000       82902.830000   \n\n       forecast_cons_year  forecast_discount_energy  forecast_meter_rent_12m  \\\ncount        14606.000000              14606.000000             14606.000000   \nmean          1399.762906                  0.966726                63.086871   \nstd           3247.786255                  5.108289                66.165783   \nmin              0.000000                  0.000000                 0.000000   \n25%              0.000000                  0.000000                16.180000   \n50%            314.000000                  0.000000                18.795000   \n75%           1745.750000                  0.000000               131.030000   \nmax         175375.000000                 30.000000               599.310000   \n\n       forecast_price_energy_off_peak  forecast_price_energy_peak  \\\ncount                    14606.000000                14606.000000   \nmean                         0.137283                    0.050491   \nstd                          0.024623                    0.049037   \nmin                          0.000000                    0.000000   \n25%                          0.116340                    0.000000   \n50%                          0.143166                    0.084138   \n75%                          0.146348                    0.098837   \nmax                          0.273963                    0.195975   \n\n       forecast_price_pow_off_peak      imp_cons  margin_gross_pow_ele  \\\ncount                 14606.000000  14606.000000          14606.000000   \nmean                     43.130056    152.786896             24.565121   \nstd                       4.485988    341.369366             20.231172   \nmin                       0.000000      0.000000              0.000000   \n25%                      40.606701      0.000000             14.280000   \n50%                      44.311378     37.395000             21.640000   \n75%                      44.311378    193.980000             29.880000   \nmax                      59.266378  15042.790000            374.640000   \n\n       margin_net_pow_ele   nb_prod_act    net_margin  num_years_antig  \\\ncount        14606.000000  14606.000000  14606.000000     14606.000000   \nmean            24.562517      1.292346    189.264522         4.997809   \nstd             20.230280      0.709774    311.798130         1.611749   \nmin              0.000000      1.000000      0.000000         1.000000   \n25%             14.280000      1.000000     50.712500         4.000000   \n50%             21.640000      1.000000    112.530000         5.000000   \n75%             29.880000      1.000000    243.097500         6.000000   \nmax            374.640000     32.000000  24570.650000        13.000000   \n\n            pow_max         churn  \ncount  14606.000000  14606.000000  \nmean      18.135136      0.097152  \nstd       13.534743      0.296175  \nmin        3.300000      0.000000  \n25%       12.500000      0.000000  \n50%       13.856000      0.000000  \n75%       19.172500      0.000000  \nmax      320.000000      1.000000  ",
      "text/html": "<div>\n<style scoped>\n    .dataframe tbody tr th:only-of-type {\n        vertical-align: middle;\n    }\n\n    .dataframe tbody tr th {\n        vertical-align: top;\n    }\n\n    .dataframe thead th {\n        text-align: right;\n    }\n</style>\n<table border=\"1\" class=\"dataframe\">\n  <thead>\n    <tr style=\"text-align: right;\">\n      <th></th>\n      <th>cons_12m</th>\n      <th>cons_gas_12m</th>\n      <th>cons_last_month</th>\n      <th>forecast_cons_12m</th>\n      <th>forecast_cons_year</th>\n      <th>forecast_discount_energy</th>\n      <th>forecast_meter_rent_12m</th>\n      <th>forecast_price_energy_off_peak</th>\n      <th>forecast_price_energy_peak</th>\n      <th>forecast_price_pow_off_peak</th>\n      <th>imp_cons</th>\n      <th>margin_gross_pow_ele</th>\n      <th>margin_net_pow_ele</th>\n      <th>nb_prod_act</th>\n      <th>net_margin</th>\n      <th>num_years_antig</th>\n      <th>pow_max</th>\n      <th>churn</th>\n    </tr>\n  </thead>\n  <tbody>\n    <tr>\n      <th>count</th>\n      <td>1.460600e+04</td>\n      <td>1.460600e+04</td>\n      <td>14606.000000</td>\n      <td>14606.000000</td>\n      <td>14606.000000</td>\n      <td>14606.000000</td>\n      <td>14606.000000</td>\n      <td>14606.000000</td>\n      <td>14606.000000</td>\n      <td>14606.000000</td>\n      <td>14606.000000</td>\n      <td>14606.000000</td>\n      <td>14606.000000</td>\n      <td>14606.000000</td>\n      <td>14606.000000</td>\n      <td>14606.000000</td>\n      <td>14606.000000</td>\n      <td>14606.000000</td>\n    </tr>\n    <tr>\n      <th>mean</th>\n      <td>1.592203e+05</td>\n      <td>2.809238e+04</td>\n      <td>16090.269752</td>\n      <td>1868.614880</td>\n      <td>1399.762906</td>\n      <td>0.966726</td>\n      <td>63.086871</td>\n      <td>0.137283</td>\n      <td>0.050491</td>\n      <td>43.130056</td>\n      <td>152.786896</td>\n      <td>24.565121</td>\n      <td>24.562517</td>\n      <td>1.292346</td>\n      <td>189.264522</td>\n      <td>4.997809</td>\n      <td>18.135136</td>\n      <td>0.097152</td>\n    </tr>\n    <tr>\n      <th>std</th>\n      <td>5.734653e+05</td>\n      <td>1.629731e+05</td>\n      <td>64364.196422</td>\n      <td>2387.571531</td>\n      <td>3247.786255</td>\n      <td>5.108289</td>\n      <td>66.165783</td>\n      <td>0.024623</td>\n      <td>0.049037</td>\n      <td>4.485988</td>\n      <td>341.369366</td>\n      <td>20.231172</td>\n      <td>20.230280</td>\n      <td>0.709774</td>\n      <td>311.798130</td>\n      <td>1.611749</td>\n      <td>13.534743</td>\n      <td>0.296175</td>\n    </tr>\n    <tr>\n      <th>min</th>\n      <td>0.000000e+00</td>\n      <td>0.000000e+00</td>\n      <td>0.000000</td>\n      <td>0.000000</td>\n      <td>0.000000</td>\n      <td>0.000000</td>\n      <td>0.000000</td>\n      <td>0.000000</td>\n      <td>0.000000</td>\n      <td>0.000000</td>\n      <td>0.000000</td>\n      <td>0.000000</td>\n      <td>0.000000</td>\n      <td>1.000000</td>\n      <td>0.000000</td>\n      <td>1.000000</td>\n      <td>3.300000</td>\n      <td>0.000000</td>\n    </tr>\n    <tr>\n      <th>25%</th>\n      <td>5.674750e+03</td>\n      <td>0.000000e+00</td>\n      <td>0.000000</td>\n      <td>494.995000</td>\n      <td>0.000000</td>\n      <td>0.000000</td>\n      <td>16.180000</td>\n      <td>0.116340</td>\n      <td>0.000000</td>\n      <td>40.606701</td>\n      <td>0.000000</td>\n      <td>14.280000</td>\n      <td>14.280000</td>\n      <td>1.000000</td>\n      <td>50.712500</td>\n      <td>4.000000</td>\n      <td>12.500000</td>\n      <td>0.000000</td>\n    </tr>\n    <tr>\n      <th>50%</th>\n      <td>1.411550e+04</td>\n      <td>0.000000e+00</td>\n      <td>792.500000</td>\n      <td>1112.875000</td>\n      <td>314.000000</td>\n      <td>0.000000</td>\n      <td>18.795000</td>\n      <td>0.143166</td>\n      <td>0.084138</td>\n      <td>44.311378</td>\n      <td>37.395000</td>\n      <td>21.640000</td>\n      <td>21.640000</td>\n      <td>1.000000</td>\n      <td>112.530000</td>\n      <td>5.000000</td>\n      <td>13.856000</td>\n      <td>0.000000</td>\n    </tr>\n    <tr>\n      <th>75%</th>\n      <td>4.076375e+04</td>\n      <td>0.000000e+00</td>\n      <td>3383.000000</td>\n      <td>2401.790000</td>\n      <td>1745.750000</td>\n      <td>0.000000</td>\n      <td>131.030000</td>\n      <td>0.146348</td>\n      <td>0.098837</td>\n      <td>44.311378</td>\n      <td>193.980000</td>\n      <td>29.880000</td>\n      <td>29.880000</td>\n      <td>1.000000</td>\n      <td>243.097500</td>\n      <td>6.000000</td>\n      <td>19.172500</td>\n      <td>0.000000</td>\n    </tr>\n    <tr>\n      <th>max</th>\n      <td>6.207104e+06</td>\n      <td>4.154590e+06</td>\n      <td>771203.000000</td>\n      <td>82902.830000</td>\n      <td>175375.000000</td>\n      <td>30.000000</td>\n      <td>599.310000</td>\n      <td>0.273963</td>\n      <td>0.195975</td>\n      <td>59.266378</td>\n      <td>15042.790000</td>\n      <td>374.640000</td>\n      <td>374.640000</td>\n      <td>32.000000</td>\n      <td>24570.650000</td>\n      <td>13.000000</td>\n      <td>320.000000</td>\n      <td>1.000000</td>\n    </tr>\n  </tbody>\n</table>\n</div>"
     },
     "execution_count": 8,
     "metadata": {},
     "output_type": "execute_result"
    }
   ],
   "source": [
    "client_df.describe()"
   ]
  },
  {
   "cell_type": "code",
   "execution_count": 9,
   "id": "f8b442e6-e186-42f9-b3c5-c5c15cd8c82a",
   "metadata": {
    "pycharm": {
     "name": "#%%\n"
    }
   },
   "outputs": [
    {
     "data": {
      "text/plain": "       price_off_peak_var  price_peak_var  price_mid_peak_var  \\\ncount       193002.000000   193002.000000       193002.000000   \nmean             0.141027        0.054630            0.030496   \nstd              0.025032        0.049924            0.036298   \nmin              0.000000        0.000000            0.000000   \n25%              0.125976        0.000000            0.000000   \n50%              0.146033        0.085483            0.000000   \n75%              0.151635        0.101673            0.072558   \nmax              0.280700        0.229788            0.114102   \n\n       price_off_peak_fix  price_peak_fix  price_mid_peak_fix  \ncount       193002.000000   193002.000000       193002.000000  \nmean            43.334477       10.622875            6.409984  \nstd              5.410297       12.841895            7.773592  \nmin              0.000000        0.000000            0.000000  \n25%             40.728885        0.000000            0.000000  \n50%             44.266930        0.000000            0.000000  \n75%             44.444710       24.339581           16.226389  \nmax             59.444710       36.490692           17.458221  ",
      "text/html": "<div>\n<style scoped>\n    .dataframe tbody tr th:only-of-type {\n        vertical-align: middle;\n    }\n\n    .dataframe tbody tr th {\n        vertical-align: top;\n    }\n\n    .dataframe thead th {\n        text-align: right;\n    }\n</style>\n<table border=\"1\" class=\"dataframe\">\n  <thead>\n    <tr style=\"text-align: right;\">\n      <th></th>\n      <th>price_off_peak_var</th>\n      <th>price_peak_var</th>\n      <th>price_mid_peak_var</th>\n      <th>price_off_peak_fix</th>\n      <th>price_peak_fix</th>\n      <th>price_mid_peak_fix</th>\n    </tr>\n  </thead>\n  <tbody>\n    <tr>\n      <th>count</th>\n      <td>193002.000000</td>\n      <td>193002.000000</td>\n      <td>193002.000000</td>\n      <td>193002.000000</td>\n      <td>193002.000000</td>\n      <td>193002.000000</td>\n    </tr>\n    <tr>\n      <th>mean</th>\n      <td>0.141027</td>\n      <td>0.054630</td>\n      <td>0.030496</td>\n      <td>43.334477</td>\n      <td>10.622875</td>\n      <td>6.409984</td>\n    </tr>\n    <tr>\n      <th>std</th>\n      <td>0.025032</td>\n      <td>0.049924</td>\n      <td>0.036298</td>\n      <td>5.410297</td>\n      <td>12.841895</td>\n      <td>7.773592</td>\n    </tr>\n    <tr>\n      <th>min</th>\n      <td>0.000000</td>\n      <td>0.000000</td>\n      <td>0.000000</td>\n      <td>0.000000</td>\n      <td>0.000000</td>\n      <td>0.000000</td>\n    </tr>\n    <tr>\n      <th>25%</th>\n      <td>0.125976</td>\n      <td>0.000000</td>\n      <td>0.000000</td>\n      <td>40.728885</td>\n      <td>0.000000</td>\n      <td>0.000000</td>\n    </tr>\n    <tr>\n      <th>50%</th>\n      <td>0.146033</td>\n      <td>0.085483</td>\n      <td>0.000000</td>\n      <td>44.266930</td>\n      <td>0.000000</td>\n      <td>0.000000</td>\n    </tr>\n    <tr>\n      <th>75%</th>\n      <td>0.151635</td>\n      <td>0.101673</td>\n      <td>0.072558</td>\n      <td>44.444710</td>\n      <td>24.339581</td>\n      <td>16.226389</td>\n    </tr>\n    <tr>\n      <th>max</th>\n      <td>0.280700</td>\n      <td>0.229788</td>\n      <td>0.114102</td>\n      <td>59.444710</td>\n      <td>36.490692</td>\n      <td>17.458221</td>\n    </tr>\n  </tbody>\n</table>\n</div>"
     },
     "execution_count": 9,
     "metadata": {},
     "output_type": "execute_result"
    }
   ],
   "source": [
    "price_df.describe()"
   ]
  },
  {
   "cell_type": "markdown",
   "id": "6a7a8879-c483-4464-9057-c70e6b150e53",
   "metadata": {
    "pycharm": {
     "name": "#%% md\n"
    }
   },
   "source": [
    "---\n",
    "\n",
    "## Data visualization"
   ]
  },
  {
   "cell_type": "code",
   "execution_count": 12,
   "outputs": [],
   "source": [
    "client_df['churn'] = client_df['churn'].astype('bool')"
   ],
   "metadata": {
    "collapsed": false,
    "pycharm": {
     "name": "#%%\n"
    }
   }
  },
  {
   "cell_type": "markdown",
   "source": [
    "We will convert churn to a boolean data type (True/False) to better identify churn rate. The value 0 was converted to False, and 1 was converted to True."
   ],
   "metadata": {
    "collapsed": false,
    "pycharm": {
     "name": "#%% md\n"
    }
   }
  },
  {
   "cell_type": "code",
   "execution_count": 18,
   "outputs": [
    {
     "data": {
      "text/plain": "<Figure size 432x288 with 1 Axes>",
      "image/png": "[encoded data removed]"
     },
     "metadata": {},
     "output_type": "display_data"
    }
   ],
   "source": [
    "sns.scatterplot(x = 'cons_12m', y = 'cons_gas_12m', hue = 'churn', data = client_df)\n",
    "plt.show()"
   ],
   "metadata": {
    "collapsed": false,
    "pycharm": {
     "name": "#%%\n"
    }
   }
  },
  {
   "cell_type": "markdown",
   "source": [
    "From the scatter plot, we can identify the trends of gas and electricity consumption. It appears that True values gravitate more towards the electricity consumption."
   ],
   "metadata": {
    "collapsed": false,
    "pycharm": {
     "name": "#%% md\n"
    }
   }
  },
  {
   "cell_type": "code",
   "execution_count": 14,
   "id": "f350ea0a-dc45-43f5-a6b7-e5e816964419",
   "metadata": {
    "pycharm": {
     "name": "#%%\n"
    }
   },
   "outputs": [],
   "source": [
    "def plot_stacked_bars(dataframe, title_, size_=(18, 10), rot_=0, legend_=\"upper right\"):\n",
    "    \"\"\"\n",
    "    Plot stacked bars with annotations\n",
    "    \"\"\"\n",
    "    ax = dataframe.plot(\n",
    "        kind=\"bar\",\n",
    "        stacked=True,\n",
    "        figsize=size_,\n",
    "        rot=rot_,\n",
    "        title=title_\n",
    "    )\n",
    "\n",
    "    # Annotate bars\n",
    "    annotate_stacked_bars(ax, textsize=14)\n",
    "    # Rename legend\n",
    "    plt.legend([\"Retention\", \"Churn\"], loc=legend_)\n",
    "    # Labels\n",
    "    plt.ylabel(\"Company base (%)\")\n",
    "    plt.show()\n",
    "\n",
    "def annotate_stacked_bars(ax, pad=0.99, colour=\"white\", textsize=13):\n",
    "    \"\"\"\n",
    "    Add value annotations to the bars\n",
    "    \"\"\"\n",
    "\n",
    "    # Iterate over the plotted rectanges/bars\n",
    "    for p in ax.patches:\n",
    "        \n",
    "        # Calculate annotation\n",
    "        value = str(round(p.get_height(),1))\n",
    "        # If value is 0 do not annotate\n",
    "        if value == '0.0':\n",
    "            continue\n",
    "        ax.annotate(\n",
    "            value,\n",
    "            ((p.get_x()+ p.get_width()/2)*pad-0.05, (p.get_y()+p.get_height()/2)*pad),\n",
    "            color=colour,\n",
    "            size=textsize\n",
    "        )\n",
    "\n",
    "def plot_distribution(dataframe, column, ax, bins_=50):\n",
    "    \"\"\"\n",
    "    Plot variable distribution in a stacked histogram of churned or retained company\n",
    "    \"\"\"\n",
    "    # Create a temporal dataframe with the data to be plot\n",
    "    temp = pd.DataFrame({\"Retention\": dataframe[dataframe[\"churn\"]==0][column],\n",
    "    \"Churn\":dataframe[dataframe[\"churn\"]==1][column]})\n",
    "    # Plot the histogram\n",
    "    temp[[\"Retention\",\"Churn\"]].plot(kind='hist', bins=bins_, ax=ax, stacked=True)\n",
    "    # X-axis label\n",
    "    ax.set_xlabel(column)\n",
    "    # Change the x-axis to plain style\n",
    "    ax.ticklabel_format(style='plain', axis='x')"
   ]
  },
  {
   "cell_type": "markdown",
   "id": "6eab14d0",
   "metadata": {
    "pycharm": {
     "name": "#%% md\n"
    }
   },
   "source": [
    "Here is a stacked bar plot of the retention vs. churn rate of the company"
   ]
  },
  {
   "cell_type": "code",
   "execution_count": 15,
   "id": "448c05d8",
   "metadata": {
    "pycharm": {
     "name": "#%%\n"
    }
   },
   "outputs": [
    {
     "data": {
      "text/plain": "<Figure size 360x360 with 1 Axes>",
      "image/png": "[encoded data removed]"
     },
     "metadata": {},
     "output_type": "display_data"
    }
   ],
   "source": [
    "churn = client_df[['id', 'churn']]\n",
    "churn.columns = ['Companies', 'churn']\n",
    "churn_total = churn.groupby(churn['churn']).count()\n",
    "\n",
    "churn_percentage = churn_total / churn_total.sum() * 100\n",
    "\n",
    "plot_stacked_bars(churn_percentage.transpose(), \"Churning status\", (5, 5), legend_=\"lower right\")"
   ]
  },
  {
   "cell_type": "code",
   "execution_count": 16,
   "id": "9a28757e",
   "metadata": {
    "pycharm": {
     "name": "#%%\n"
    }
   },
   "outputs": [
    {
     "data": {
      "text/plain": "<Figure size 1296x360 with 1 Axes>",
      "image/png": "[encoded data removed]"
     },
     "metadata": {},
     "output_type": "display_data"
    }
   ],
   "source": [
    "consumption = client_df[['id', 'cons_12m', 'cons_gas_12m', 'cons_last_month', 'imp_cons', 'has_gas', 'churn']]\n",
    "\n",
    "fig, axs = plt.subplots(nrows=1, figsize=(18, 5))\n",
    "\n",
    "plot_distribution(consumption, 'cons_12m', axs)"
   ]
  },
  {
   "cell_type": "code",
   "execution_count": null,
   "outputs": [],
   "source": [],
   "metadata": {
    "collapsed": false,
    "pycharm": {
     "name": "#%%\n"
    }
   }
  },
  {
   "cell_type": "code",
   "execution_count": 12,
   "outputs": [],
   "source": [],
   "metadata": {
    "collapsed": false,
    "pycharm": {
     "name": "#%%\n"
    }
   }
  },
  {
   "cell_type": "code",
   "execution_count": 1,
   "outputs": [],
   "source": [],
   "metadata": {
    "collapsed": false,
    "pycharm": {
     "name": "#%%\n"
    }
   }
  }
 ],
 "metadata": {
  "interpreter": {
   "hash": "152bf6e7dc8ee53edb5af21dc1a8faeab7f134840808a94079ed98d91ece7e0c"
  },
  "kernelspec": {
   "display_name": "Python 3",
   "language": "python",
   "name": "python3"
  },
  "language_info": {
   "codemirror_mode": {
    "name": "ipython",
    "version": 3
   },
   "file_extension": ".py",
   "mimetype": "text/x-python",
   "name": "python",
   "nbconvert_exporter": "python",
   "pygments_lexer": "ipython3",
   "version": "3.7.9"
  }
 },
 "nbformat": 4,
 "nbformat_minor": 5
}